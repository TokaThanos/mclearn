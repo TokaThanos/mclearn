{
 "cells": [
  {
   "cell_type": "code",
   "execution_count": 1,
   "metadata": {},
   "outputs": [],
   "source": [
    "import numpy as np\n",
    "import pandas as pd\n",
    "import matplotlib.pyplot as plt"
   ]
  },
  {
   "cell_type": "code",
   "execution_count": 2,
   "metadata": {},
   "outputs": [],
   "source": [
    "df = pd.read_csv('ex1data1.txt', sep = ',', header = None, names = ['population', 'profit'])"
   ]
  },
  {
   "cell_type": "code",
   "execution_count": 3,
   "metadata": {},
   "outputs": [],
   "source": [
    "X = df.loc[:, 'population']\n",
    "y = df.loc[:, 'profit']\n",
    "m = y.size"
   ]
  },
  {
   "cell_type": "code",
   "execution_count": 4,
   "metadata": {},
   "outputs": [
    {
     "data": {
      "text/plain": [
       "Text(0, 0.5, 'Profit in $10000s')"
      ]
     },
     "execution_count": 4,
     "metadata": {},
     "output_type": "execute_result"
    },
    {
     "data": {
      "image/png": "[encoded data removed]",
      "text/plain": [
       "<Figure size 432x288 with 1 Axes>"
      ]
     },
     "metadata": {
      "needs_background": "light"
     },
     "output_type": "display_data"
    }
   ],
   "source": [
    "plt.scatter(X, y, marker = 'x', color = 'red')\n",
    "plt.xlabel('Population of cities in 10000s')\n",
    "plt.ylabel('Profit in $10000s')"
   ]
  },
  {
   "cell_type": "code",
   "execution_count": 5,
   "metadata": {
    "scrolled": true
   },
   "outputs": [],
   "source": [
    "X = X[:, np.newaxis]  # np.newaxis is used to convert rank 1 matrix to rank 2\n",
    "y = y[:, np.newaxis]\n",
    "one = np.ones((m,1))"
   ]
  },
  {
   "cell_type": "code",
   "execution_count": 6,
   "metadata": {},
   "outputs": [],
   "source": [
    "theta = np.zeros([2,1])\n",
    "iterations = 1500\n",
    "alpha = 0.01"
   ]
  },
  {
   "cell_type": "code",
   "execution_count": 7,
   "metadata": {},
   "outputs": [],
   "source": [
    "def costFunc(X, y, theta):    \n",
    "    x1 = np.hstack((one, X))\n",
    "    hypothesis = np.dot(x1, theta)\n",
    "    temp = np.power(hypothesis - y, 2)\n",
    "    cost = np.sum(temp) /(2 * m)\n",
    "    return cost"
   ]
  },
  {
   "cell_type": "code",
   "execution_count": 8,
   "metadata": {},
   "outputs": [
    {
     "name": "stdout",
     "output_type": "stream",
     "text": [
      "put the value of thetas\n",
      "-1\n",
      "2\n",
      "54.24245508201238\n"
     ]
    }
   ],
   "source": [
    "print('put the value of thetas')\n",
    "i = int(input())\n",
    "j = int(input())\n",
    "\n",
    "theta = np.array([[i], [j]])\n",
    "\n",
    "print(costFunc(X, y, theta))"
   ]
  },
  {
   "cell_type": "code",
   "execution_count": 9,
   "metadata": {},
   "outputs": [],
   "source": [
    "def batchGradientDecent(X, y, theta, alpha, iterations):\n",
    "    for _ in range(iterations):\n",
    "        x1 = np.hstack((one, X))\n",
    "        hypothesis = np.dot(x1, theta)\n",
    "        diff = np.dot(x1, theta) - y\n",
    "        temp = np.dot(x1.transpose(), diff)\n",
    "        theta = theta - (alpha / m) * temp \n",
    "    return theta, hypothesis"
   ]
  },
  {
   "cell_type": "code",
   "execution_count": 10,
   "metadata": {},
   "outputs": [],
   "source": [
    "result = batchGradientDecent(X, y, theta, alpha, iterations)"
   ]
  },
  {
   "cell_type": "code",
   "execution_count": 11,
   "metadata": {},
   "outputs": [],
   "source": [
    "theta = result[0]"
   ]
  },
  {
   "cell_type": "code",
   "execution_count": 12,
   "metadata": {},
   "outputs": [
    {
     "name": "stdout",
     "output_type": "stream",
     "text": [
      "4.48012408392693\n"
     ]
    }
   ],
   "source": [
    "cost = costFunc(X, y, theta)\n",
    "print(cost)"
   ]
  },
  {
   "cell_type": "code",
   "execution_count": 13,
   "metadata": {},
   "outputs": [
    {
     "data": {
      "text/plain": [
       "<matplotlib.legend.Legend at 0x18f7faabb88>"
      ]
     },
     "execution_count": 13,
     "metadata": {},
     "output_type": "execute_result"
    },
    {
     "data": {
      "image/png": "[encoded data removed]",
      "text/plain": [
       "<Figure size 432x288 with 1 Axes>"
      ]
     },
     "metadata": {
      "needs_background": "light"
     },
     "output_type": "display_data"
    }
   ],
   "source": [
    "plt.scatter(X, y, marker = 'x', color = 'red', label = 'real output')\n",
    "plt.xlabel('Population of cities in 10000s')\n",
    "plt.ylabel('Profit in $10000s')\n",
    "plt.plot(X, result[1], label = 'predicted output')\n",
    "plt.legend()"
   ]
  },
  {
   "cell_type": "code",
   "execution_count": 14,
   "metadata": {},
   "outputs": [
    {
     "name": "stdout",
     "output_type": "stream",
     "text": [
      "enter a number\n",
      "22\n",
      "[22.12576247]\n"
     ]
    }
   ],
   "source": [
    "print('enter a number')\n",
    "i = float(input())\n",
    "pred_val = np.dot([1 , i], theta)\n",
    "print(pred_val)"
   ]
  }
 ],
 "metadata": {
  "kernelspec": {
   "display_name": "Python 3",
   "language": "python",
   "name": "python3"
  },
  "language_info": {
   "codemirror_mode": {
    "name": "ipython",
    "version": 3
   },
   "file_extension": ".py",
   "mimetype": "text/x-python",
   "name": "python",
   "nbconvert_exporter": "python",
   "pygments_lexer": "ipython3",
   "version": "3.6.10"
  }
 },
 "nbformat": 4,
 "nbformat_minor": 2
}
